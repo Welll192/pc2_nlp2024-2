{
  "nbformat": 4,
  "nbformat_minor": 0,
  "metadata": {
    "colab": {
      "provenance": []
    },
    "kernelspec": {
      "name": "python3",
      "display_name": "Python 3"
    },
    "language_info": {
      "name": "python"
    }
  },
  "cells": [
    {
      "cell_type": "markdown",
      "source": [
        "Preparación de Datos"
      ],
      "metadata": {
        "id": "JV60uVtHoKHF"
      }
    },
    {
      "cell_type": "markdown",
      "source": [
        "Importar Librerías Necesarias"
      ],
      "metadata": {
        "id": "JwPpxKztoZdD"
      }
    },
    {
      "cell_type": "code",
      "execution_count": null,
      "metadata": {
        "id": "WJJJoPrVh4G6"
      },
      "outputs": [],
      "source": [
        "import numpy as np\n",
        "import pandas as pd\n",
        "from sklearn.datasets import fetch_20newsgroups\n",
        "import re\n",
        "import nltk\n",
        "from nltk.corpus import stopwords\n",
        "from nltk.stem import WordNetLemmatizer\n",
        "from sklearn.model_selection import train_test_split"
      ]
    },
    {
      "cell_type": "markdown",
      "source": [
        "Descargar Recursos de NLTK"
      ],
      "metadata": {
        "id": "OvmipxKSoYOH"
      }
    },
    {
      "cell_type": "code",
      "source": [
        "nltk.download('stopwords')\n",
        "nltk.download('wordnet')"
      ],
      "metadata": {
        "colab": {
          "base_uri": "https://localhost:8080/"
        },
        "id": "OxF9hhwlh7dX",
        "outputId": "b34a42ed-d882-4611-cd7b-c94a73dd2120"
      },
      "execution_count": null,
      "outputs": [
        {
          "output_type": "stream",
          "name": "stderr",
          "text": [
            "[nltk_data] Downloading package stopwords to /root/nltk_data...\n",
            "[nltk_data]   Package stopwords is already up-to-date!\n",
            "[nltk_data] Downloading package wordnet to /root/nltk_data...\n",
            "[nltk_data]   Package wordnet is already up-to-date!\n"
          ]
        },
        {
          "output_type": "execute_result",
          "data": {
            "text/plain": [
              "True"
            ]
          },
          "metadata": {},
          "execution_count": 28
        }
      ]
    },
    {
      "cell_type": "markdown",
      "source": [
        "Cargar el Conjunto de Datos"
      ],
      "metadata": {
        "id": "LZVf485yoc6z"
      }
    },
    {
      "cell_type": "code",
      "source": [
        "# Cargarmos el conjunto de datos 20 Newsgroups de la siguiente manera\n",
        "newsgroups = fetch_20newsgroups(subset='all', remove=('headers', 'footers', 'quotes'))\n",
        "texts = newsgroups.data\n",
        "labels = newsgroups.target"
      ],
      "metadata": {
        "id": "33_GcT8ih8Z7"
      },
      "execution_count": null,
      "outputs": []
    },
    {
      "cell_type": "markdown",
      "source": [
        "Preprocesamiento de Texto"
      ],
      "metadata": {
        "id": "RVPkAH1XofUd"
      }
    },
    {
      "cell_type": "code",
      "source": [
        "# Definimos lad funcones de preprocesamiento\n",
        "stop_words = set(stopwords.words('english'))\n",
        "lemmatizer = WordNetLemmatizer()\n",
        "\n",
        "def preprocess_text(text):\n",
        "    text = text.lower()\n",
        "    # Eliminar caracteres especiales y números para quedarnos solamente con caracteres permitidos\n",
        "    text = re.sub(r'[^a-zA-Z\\s]', '', text)\n",
        "    # Tokenizar\n",
        "    tokens = text.split()\n",
        "    # lematizamos y normalizamos\n",
        "    tokens = [lemmatizer.lemmatize(word) for word in tokens if word not in stop_words]\n",
        "    text = ' '.join(tokens)\n",
        "    return text\n",
        "\n",
        "texts_clean = [preprocess_text(text) for text in texts]"
      ],
      "metadata": {
        "id": "UcnGTF_ih-10"
      },
      "execution_count": null,
      "outputs": []
    },
    {
      "cell_type": "markdown",
      "source": [
        "Preprocesamiento de Texto"
      ],
      "metadata": {
        "id": "52QokQ5pogmk"
      }
    },
    {
      "cell_type": "code",
      "source": [
        "X_train, X_temp, y_train, y_temp = train_test_split(texts_clean, labels, test_size=0.3, random_state=42, stratify=labels)\n",
        "X_val, X_test, y_val, y_test = train_test_split(X_temp, y_temp, test_size=0.5, random_state=42, stratify=y_temp)"
      ],
      "metadata": {
        "id": "5Q5BZUAkh_54"
      },
      "execution_count": null,
      "outputs": []
    },
    {
      "cell_type": "markdown",
      "source": [
        "Construcción de Embeddings"
      ],
      "metadata": {
        "id": "5tOjKyfvoiLj"
      }
    },
    {
      "cell_type": "markdown",
      "source": [
        "Entrenar Word2Vec en el Conjunto de Entrenamiento"
      ],
      "metadata": {
        "id": "i7KLSoZhojyP"
      }
    },
    {
      "cell_type": "code",
      "source": [
        "from gensim.models import Word2Vec\n",
        "\n",
        "train_tokens = [text.split() for text in X_train]\n",
        "\n",
        "# Entrenamos mpdelo Word2Vec, el cual tomará los tokens de las oraciones y\n",
        "# creará vectores de tamaño 100, con una ventana de contexto de 5 palabras,\n",
        "# ignorando palabras que aparezcan menos de 2 veces.\n",
        "w2v_model = Word2Vec(sentences=train_tokens, vector_size=100, window=5, min_count=2, workers=4)"
      ],
      "metadata": {
        "id": "wVuZHeGLiBMg"
      },
      "execution_count": null,
      "outputs": []
    },
    {
      "cell_type": "markdown",
      "source": [
        "Crear Representaciones de Documentos"
      ],
      "metadata": {
        "id": "-ZrCfziOolAA"
      }
    },
    {
      "cell_type": "code",
      "source": [
        "# Función para obtener el vector promedio de un documento\n",
        "def document_vector(doc):\n",
        "    # Conservamos solo las palabras que estén en el vocabulario del modelo Word2Vec\n",
        "    doc = [word for word in doc.split() if word in w2v_model.wv.index_to_key]\n",
        "    if len(doc) == 0:\n",
        "        return np.zeros(w2v_model.vector_size)\n",
        "    else:\n",
        "        return np.mean(w2v_model.wv[doc], axis=0)\n",
        "\n",
        "# Obtenemos los vectores de todows los documentos\n",
        "X_train_vect = np.array([document_vector(doc) for doc in X_train])\n",
        "X_val_vect = np.array([document_vector(doc) for doc in X_val])\n",
        "X_test_vect = np.array([document_vector(doc) for doc in X_test])"
      ],
      "metadata": {
        "id": "qVjnDVaiiCYw"
      },
      "execution_count": null,
      "outputs": []
    },
    {
      "cell_type": "markdown",
      "source": [
        "Implementación del Modelo"
      ],
      "metadata": {
        "id": "ml7UvjUHovh6"
      }
    },
    {
      "cell_type": "code",
      "source": [
        "from sklearn.linear_model import SGDClassifier\n",
        "from sklearn.preprocessing import StandardScaler\n",
        "from sklearn.pipeline import Pipeline"
      ],
      "metadata": {
        "id": "bC89UklKiD1A"
      },
      "execution_count": null,
      "outputs": []
    },
    {
      "cell_type": "markdown",
      "source": [
        "Crear un Pipeline de Preprocesamiento y Modelo"
      ],
      "metadata": {
        "id": "Q47lsrcCoxsz"
      }
    },
    {
      "cell_type": "code",
      "source": [
        "# Estandarizamos los datos y aplicamos el clasificador\n",
        "model = Pipeline([\n",
        "    ('scaler', StandardScaler()),\n",
        "    ('classifier', SGDClassifier(loss='log_loss', penalty='l2', max_iter=1000, random_state=42))\n",
        "])\n"
      ],
      "metadata": {
        "id": "i6eo2LZDiFFX"
      },
      "execution_count": null,
      "outputs": []
    },
    {
      "cell_type": "markdown",
      "source": [
        "Entrenamiento del Modelo"
      ],
      "metadata": {
        "id": "uDAnkr8Uoyvz"
      }
    },
    {
      "cell_type": "markdown",
      "source": [
        "Entrenar el Modelo con el Conjunto de Entrenamiento"
      ],
      "metadata": {
        "id": "DACU6FxYo0CR"
      }
    },
    {
      "cell_type": "code",
      "source": [
        "model.fit(X_train_vect, y_train)\n"
      ],
      "metadata": {
        "colab": {
          "base_uri": "https://localhost:8080/",
          "height": 143
        },
        "id": "q9MNxS-SiGEK",
        "outputId": "725256d9-f75d-4151-8ad8-6eefcba36da3"
      },
      "execution_count": null,
      "outputs": [
        {
          "output_type": "execute_result",
          "data": {
            "text/plain": [
              "Pipeline(steps=[('scaler', StandardScaler()),\n",
              "                ('classifier',\n",
              "                 SGDClassifier(loss='log_loss', random_state=42))])"
            ],
            "text/html": [
              "<style>#sk-container-id-3 {\n",
              "  /* Definition of color scheme common for light and dark mode */\n",
              "  --sklearn-color-text: black;\n",
              "  --sklearn-color-line: gray;\n",
              "  /* Definition of color scheme for unfitted estimators */\n",
              "  --sklearn-color-unfitted-level-0: #fff5e6;\n",
              "  --sklearn-color-unfitted-level-1: #f6e4d2;\n",
              "  --sklearn-color-unfitted-level-2: #ffe0b3;\n",
              "  --sklearn-color-unfitted-level-3: chocolate;\n",
              "  /* Definition of color scheme for fitted estimators */\n",
              "  --sklearn-color-fitted-level-0: #f0f8ff;\n",
              "  --sklearn-color-fitted-level-1: #d4ebff;\n",
              "  --sklearn-color-fitted-level-2: #b3dbfd;\n",
              "  --sklearn-color-fitted-level-3: cornflowerblue;\n",
              "\n",
              "  /* Specific color for light theme */\n",
              "  --sklearn-color-text-on-default-background: var(--sg-text-color, var(--theme-code-foreground, var(--jp-content-font-color1, black)));\n",
              "  --sklearn-color-background: var(--sg-background-color, var(--theme-background, var(--jp-layout-color0, white)));\n",
              "  --sklearn-color-border-box: var(--sg-text-color, var(--theme-code-foreground, var(--jp-content-font-color1, black)));\n",
              "  --sklearn-color-icon: #696969;\n",
              "\n",
              "  @media (prefers-color-scheme: dark) {\n",
              "    /* Redefinition of color scheme for dark theme */\n",
              "    --sklearn-color-text-on-default-background: var(--sg-text-color, var(--theme-code-foreground, var(--jp-content-font-color1, white)));\n",
              "    --sklearn-color-background: var(--sg-background-color, var(--theme-background, var(--jp-layout-color0, #111)));\n",
              "    --sklearn-color-border-box: var(--sg-text-color, var(--theme-code-foreground, var(--jp-content-font-color1, white)));\n",
              "    --sklearn-color-icon: #878787;\n",
              "  }\n",
              "}\n",
              "\n",
              "#sk-container-id-3 {\n",
              "  color: var(--sklearn-color-text);\n",
              "}\n",
              "\n",
              "#sk-container-id-3 pre {\n",
              "  padding: 0;\n",
              "}\n",
              "\n",
              "#sk-container-id-3 input.sk-hidden--visually {\n",
              "  border: 0;\n",
              "  clip: rect(1px 1px 1px 1px);\n",
              "  clip: rect(1px, 1px, 1px, 1px);\n",
              "  height: 1px;\n",
              "  margin: -1px;\n",
              "  overflow: hidden;\n",
              "  padding: 0;\n",
              "  position: absolute;\n",
              "  width: 1px;\n",
              "}\n",
              "\n",
              "#sk-container-id-3 div.sk-dashed-wrapped {\n",
              "  border: 1px dashed var(--sklearn-color-line);\n",
              "  margin: 0 0.4em 0.5em 0.4em;\n",
              "  box-sizing: border-box;\n",
              "  padding-bottom: 0.4em;\n",
              "  background-color: var(--sklearn-color-background);\n",
              "}\n",
              "\n",
              "#sk-container-id-3 div.sk-container {\n",
              "  /* jupyter's `normalize.less` sets `[hidden] { display: none; }`\n",
              "     but bootstrap.min.css set `[hidden] { display: none !important; }`\n",
              "     so we also need the `!important` here to be able to override the\n",
              "     default hidden behavior on the sphinx rendered scikit-learn.org.\n",
              "     See: https://github.com/scikit-learn/scikit-learn/issues/21755 */\n",
              "  display: inline-block !important;\n",
              "  position: relative;\n",
              "}\n",
              "\n",
              "#sk-container-id-3 div.sk-text-repr-fallback {\n",
              "  display: none;\n",
              "}\n",
              "\n",
              "div.sk-parallel-item,\n",
              "div.sk-serial,\n",
              "div.sk-item {\n",
              "  /* draw centered vertical line to link estimators */\n",
              "  background-image: linear-gradient(var(--sklearn-color-text-on-default-background), var(--sklearn-color-text-on-default-background));\n",
              "  background-size: 2px 100%;\n",
              "  background-repeat: no-repeat;\n",
              "  background-position: center center;\n",
              "}\n",
              "\n",
              "/* Parallel-specific style estimator block */\n",
              "\n",
              "#sk-container-id-3 div.sk-parallel-item::after {\n",
              "  content: \"\";\n",
              "  width: 100%;\n",
              "  border-bottom: 2px solid var(--sklearn-color-text-on-default-background);\n",
              "  flex-grow: 1;\n",
              "}\n",
              "\n",
              "#sk-container-id-3 div.sk-parallel {\n",
              "  display: flex;\n",
              "  align-items: stretch;\n",
              "  justify-content: center;\n",
              "  background-color: var(--sklearn-color-background);\n",
              "  position: relative;\n",
              "}\n",
              "\n",
              "#sk-container-id-3 div.sk-parallel-item {\n",
              "  display: flex;\n",
              "  flex-direction: column;\n",
              "}\n",
              "\n",
              "#sk-container-id-3 div.sk-parallel-item:first-child::after {\n",
              "  align-self: flex-end;\n",
              "  width: 50%;\n",
              "}\n",
              "\n",
              "#sk-container-id-3 div.sk-parallel-item:last-child::after {\n",
              "  align-self: flex-start;\n",
              "  width: 50%;\n",
              "}\n",
              "\n",
              "#sk-container-id-3 div.sk-parallel-item:only-child::after {\n",
              "  width: 0;\n",
              "}\n",
              "\n",
              "/* Serial-specific style estimator block */\n",
              "\n",
              "#sk-container-id-3 div.sk-serial {\n",
              "  display: flex;\n",
              "  flex-direction: column;\n",
              "  align-items: center;\n",
              "  background-color: var(--sklearn-color-background);\n",
              "  padding-right: 1em;\n",
              "  padding-left: 1em;\n",
              "}\n",
              "\n",
              "\n",
              "/* Toggleable style: style used for estimator/Pipeline/ColumnTransformer box that is\n",
              "clickable and can be expanded/collapsed.\n",
              "- Pipeline and ColumnTransformer use this feature and define the default style\n",
              "- Estimators will overwrite some part of the style using the `sk-estimator` class\n",
              "*/\n",
              "\n",
              "/* Pipeline and ColumnTransformer style (default) */\n",
              "\n",
              "#sk-container-id-3 div.sk-toggleable {\n",
              "  /* Default theme specific background. It is overwritten whether we have a\n",
              "  specific estimator or a Pipeline/ColumnTransformer */\n",
              "  background-color: var(--sklearn-color-background);\n",
              "}\n",
              "\n",
              "/* Toggleable label */\n",
              "#sk-container-id-3 label.sk-toggleable__label {\n",
              "  cursor: pointer;\n",
              "  display: block;\n",
              "  width: 100%;\n",
              "  margin-bottom: 0;\n",
              "  padding: 0.5em;\n",
              "  box-sizing: border-box;\n",
              "  text-align: center;\n",
              "}\n",
              "\n",
              "#sk-container-id-3 label.sk-toggleable__label-arrow:before {\n",
              "  /* Arrow on the left of the label */\n",
              "  content: \"▸\";\n",
              "  float: left;\n",
              "  margin-right: 0.25em;\n",
              "  color: var(--sklearn-color-icon);\n",
              "}\n",
              "\n",
              "#sk-container-id-3 label.sk-toggleable__label-arrow:hover:before {\n",
              "  color: var(--sklearn-color-text);\n",
              "}\n",
              "\n",
              "/* Toggleable content - dropdown */\n",
              "\n",
              "#sk-container-id-3 div.sk-toggleable__content {\n",
              "  max-height: 0;\n",
              "  max-width: 0;\n",
              "  overflow: hidden;\n",
              "  text-align: left;\n",
              "  /* unfitted */\n",
              "  background-color: var(--sklearn-color-unfitted-level-0);\n",
              "}\n",
              "\n",
              "#sk-container-id-3 div.sk-toggleable__content.fitted {\n",
              "  /* fitted */\n",
              "  background-color: var(--sklearn-color-fitted-level-0);\n",
              "}\n",
              "\n",
              "#sk-container-id-3 div.sk-toggleable__content pre {\n",
              "  margin: 0.2em;\n",
              "  border-radius: 0.25em;\n",
              "  color: var(--sklearn-color-text);\n",
              "  /* unfitted */\n",
              "  background-color: var(--sklearn-color-unfitted-level-0);\n",
              "}\n",
              "\n",
              "#sk-container-id-3 div.sk-toggleable__content.fitted pre {\n",
              "  /* unfitted */\n",
              "  background-color: var(--sklearn-color-fitted-level-0);\n",
              "}\n",
              "\n",
              "#sk-container-id-3 input.sk-toggleable__control:checked~div.sk-toggleable__content {\n",
              "  /* Expand drop-down */\n",
              "  max-height: 200px;\n",
              "  max-width: 100%;\n",
              "  overflow: auto;\n",
              "}\n",
              "\n",
              "#sk-container-id-3 input.sk-toggleable__control:checked~label.sk-toggleable__label-arrow:before {\n",
              "  content: \"▾\";\n",
              "}\n",
              "\n",
              "/* Pipeline/ColumnTransformer-specific style */\n",
              "\n",
              "#sk-container-id-3 div.sk-label input.sk-toggleable__control:checked~label.sk-toggleable__label {\n",
              "  color: var(--sklearn-color-text);\n",
              "  background-color: var(--sklearn-color-unfitted-level-2);\n",
              "}\n",
              "\n",
              "#sk-container-id-3 div.sk-label.fitted input.sk-toggleable__control:checked~label.sk-toggleable__label {\n",
              "  background-color: var(--sklearn-color-fitted-level-2);\n",
              "}\n",
              "\n",
              "/* Estimator-specific style */\n",
              "\n",
              "/* Colorize estimator box */\n",
              "#sk-container-id-3 div.sk-estimator input.sk-toggleable__control:checked~label.sk-toggleable__label {\n",
              "  /* unfitted */\n",
              "  background-color: var(--sklearn-color-unfitted-level-2);\n",
              "}\n",
              "\n",
              "#sk-container-id-3 div.sk-estimator.fitted input.sk-toggleable__control:checked~label.sk-toggleable__label {\n",
              "  /* fitted */\n",
              "  background-color: var(--sklearn-color-fitted-level-2);\n",
              "}\n",
              "\n",
              "#sk-container-id-3 div.sk-label label.sk-toggleable__label,\n",
              "#sk-container-id-3 div.sk-label label {\n",
              "  /* The background is the default theme color */\n",
              "  color: var(--sklearn-color-text-on-default-background);\n",
              "}\n",
              "\n",
              "/* On hover, darken the color of the background */\n",
              "#sk-container-id-3 div.sk-label:hover label.sk-toggleable__label {\n",
              "  color: var(--sklearn-color-text);\n",
              "  background-color: var(--sklearn-color-unfitted-level-2);\n",
              "}\n",
              "\n",
              "/* Label box, darken color on hover, fitted */\n",
              "#sk-container-id-3 div.sk-label.fitted:hover label.sk-toggleable__label.fitted {\n",
              "  color: var(--sklearn-color-text);\n",
              "  background-color: var(--sklearn-color-fitted-level-2);\n",
              "}\n",
              "\n",
              "/* Estimator label */\n",
              "\n",
              "#sk-container-id-3 div.sk-label label {\n",
              "  font-family: monospace;\n",
              "  font-weight: bold;\n",
              "  display: inline-block;\n",
              "  line-height: 1.2em;\n",
              "}\n",
              "\n",
              "#sk-container-id-3 div.sk-label-container {\n",
              "  text-align: center;\n",
              "}\n",
              "\n",
              "/* Estimator-specific */\n",
              "#sk-container-id-3 div.sk-estimator {\n",
              "  font-family: monospace;\n",
              "  border: 1px dotted var(--sklearn-color-border-box);\n",
              "  border-radius: 0.25em;\n",
              "  box-sizing: border-box;\n",
              "  margin-bottom: 0.5em;\n",
              "  /* unfitted */\n",
              "  background-color: var(--sklearn-color-unfitted-level-0);\n",
              "}\n",
              "\n",
              "#sk-container-id-3 div.sk-estimator.fitted {\n",
              "  /* fitted */\n",
              "  background-color: var(--sklearn-color-fitted-level-0);\n",
              "}\n",
              "\n",
              "/* on hover */\n",
              "#sk-container-id-3 div.sk-estimator:hover {\n",
              "  /* unfitted */\n",
              "  background-color: var(--sklearn-color-unfitted-level-2);\n",
              "}\n",
              "\n",
              "#sk-container-id-3 div.sk-estimator.fitted:hover {\n",
              "  /* fitted */\n",
              "  background-color: var(--sklearn-color-fitted-level-2);\n",
              "}\n",
              "\n",
              "/* Specification for estimator info (e.g. \"i\" and \"?\") */\n",
              "\n",
              "/* Common style for \"i\" and \"?\" */\n",
              "\n",
              ".sk-estimator-doc-link,\n",
              "a:link.sk-estimator-doc-link,\n",
              "a:visited.sk-estimator-doc-link {\n",
              "  float: right;\n",
              "  font-size: smaller;\n",
              "  line-height: 1em;\n",
              "  font-family: monospace;\n",
              "  background-color: var(--sklearn-color-background);\n",
              "  border-radius: 1em;\n",
              "  height: 1em;\n",
              "  width: 1em;\n",
              "  text-decoration: none !important;\n",
              "  margin-left: 1ex;\n",
              "  /* unfitted */\n",
              "  border: var(--sklearn-color-unfitted-level-1) 1pt solid;\n",
              "  color: var(--sklearn-color-unfitted-level-1);\n",
              "}\n",
              "\n",
              ".sk-estimator-doc-link.fitted,\n",
              "a:link.sk-estimator-doc-link.fitted,\n",
              "a:visited.sk-estimator-doc-link.fitted {\n",
              "  /* fitted */\n",
              "  border: var(--sklearn-color-fitted-level-1) 1pt solid;\n",
              "  color: var(--sklearn-color-fitted-level-1);\n",
              "}\n",
              "\n",
              "/* On hover */\n",
              "div.sk-estimator:hover .sk-estimator-doc-link:hover,\n",
              ".sk-estimator-doc-link:hover,\n",
              "div.sk-label-container:hover .sk-estimator-doc-link:hover,\n",
              ".sk-estimator-doc-link:hover {\n",
              "  /* unfitted */\n",
              "  background-color: var(--sklearn-color-unfitted-level-3);\n",
              "  color: var(--sklearn-color-background);\n",
              "  text-decoration: none;\n",
              "}\n",
              "\n",
              "div.sk-estimator.fitted:hover .sk-estimator-doc-link.fitted:hover,\n",
              ".sk-estimator-doc-link.fitted:hover,\n",
              "div.sk-label-container:hover .sk-estimator-doc-link.fitted:hover,\n",
              ".sk-estimator-doc-link.fitted:hover {\n",
              "  /* fitted */\n",
              "  background-color: var(--sklearn-color-fitted-level-3);\n",
              "  color: var(--sklearn-color-background);\n",
              "  text-decoration: none;\n",
              "}\n",
              "\n",
              "/* Span, style for the box shown on hovering the info icon */\n",
              ".sk-estimator-doc-link span {\n",
              "  display: none;\n",
              "  z-index: 9999;\n",
              "  position: relative;\n",
              "  font-weight: normal;\n",
              "  right: .2ex;\n",
              "  padding: .5ex;\n",
              "  margin: .5ex;\n",
              "  width: min-content;\n",
              "  min-width: 20ex;\n",
              "  max-width: 50ex;\n",
              "  color: var(--sklearn-color-text);\n",
              "  box-shadow: 2pt 2pt 4pt #999;\n",
              "  /* unfitted */\n",
              "  background: var(--sklearn-color-unfitted-level-0);\n",
              "  border: .5pt solid var(--sklearn-color-unfitted-level-3);\n",
              "}\n",
              "\n",
              ".sk-estimator-doc-link.fitted span {\n",
              "  /* fitted */\n",
              "  background: var(--sklearn-color-fitted-level-0);\n",
              "  border: var(--sklearn-color-fitted-level-3);\n",
              "}\n",
              "\n",
              ".sk-estimator-doc-link:hover span {\n",
              "  display: block;\n",
              "}\n",
              "\n",
              "/* \"?\"-specific style due to the `<a>` HTML tag */\n",
              "\n",
              "#sk-container-id-3 a.estimator_doc_link {\n",
              "  float: right;\n",
              "  font-size: 1rem;\n",
              "  line-height: 1em;\n",
              "  font-family: monospace;\n",
              "  background-color: var(--sklearn-color-background);\n",
              "  border-radius: 1rem;\n",
              "  height: 1rem;\n",
              "  width: 1rem;\n",
              "  text-decoration: none;\n",
              "  /* unfitted */\n",
              "  color: var(--sklearn-color-unfitted-level-1);\n",
              "  border: var(--sklearn-color-unfitted-level-1) 1pt solid;\n",
              "}\n",
              "\n",
              "#sk-container-id-3 a.estimator_doc_link.fitted {\n",
              "  /* fitted */\n",
              "  border: var(--sklearn-color-fitted-level-1) 1pt solid;\n",
              "  color: var(--sklearn-color-fitted-level-1);\n",
              "}\n",
              "\n",
              "/* On hover */\n",
              "#sk-container-id-3 a.estimator_doc_link:hover {\n",
              "  /* unfitted */\n",
              "  background-color: var(--sklearn-color-unfitted-level-3);\n",
              "  color: var(--sklearn-color-background);\n",
              "  text-decoration: none;\n",
              "}\n",
              "\n",
              "#sk-container-id-3 a.estimator_doc_link.fitted:hover {\n",
              "  /* fitted */\n",
              "  background-color: var(--sklearn-color-fitted-level-3);\n",
              "}\n",
              "</style><div id=\"sk-container-id-3\" class=\"sk-top-container\"><div class=\"sk-text-repr-fallback\"><pre>Pipeline(steps=[(&#x27;scaler&#x27;, StandardScaler()),\n",
              "                (&#x27;classifier&#x27;,\n",
              "                 SGDClassifier(loss=&#x27;log_loss&#x27;, random_state=42))])</pre><b>In a Jupyter environment, please rerun this cell to show the HTML representation or trust the notebook. <br />On GitHub, the HTML representation is unable to render, please try loading this page with nbviewer.org.</b></div><div class=\"sk-container\" hidden><div class=\"sk-item sk-dashed-wrapped\"><div class=\"sk-label-container\"><div class=\"sk-label fitted sk-toggleable\"><input class=\"sk-toggleable__control sk-hidden--visually\" id=\"sk-estimator-id-7\" type=\"checkbox\" ><label for=\"sk-estimator-id-7\" class=\"sk-toggleable__label fitted sk-toggleable__label-arrow fitted\">&nbsp;&nbsp;Pipeline<a class=\"sk-estimator-doc-link fitted\" rel=\"noreferrer\" target=\"_blank\" href=\"https://scikit-learn.org/1.5/modules/generated/sklearn.pipeline.Pipeline.html\">?<span>Documentation for Pipeline</span></a><span class=\"sk-estimator-doc-link fitted\">i<span>Fitted</span></span></label><div class=\"sk-toggleable__content fitted\"><pre>Pipeline(steps=[(&#x27;scaler&#x27;, StandardScaler()),\n",
              "                (&#x27;classifier&#x27;,\n",
              "                 SGDClassifier(loss=&#x27;log_loss&#x27;, random_state=42))])</pre></div> </div></div><div class=\"sk-serial\"><div class=\"sk-item\"><div class=\"sk-estimator fitted sk-toggleable\"><input class=\"sk-toggleable__control sk-hidden--visually\" id=\"sk-estimator-id-8\" type=\"checkbox\" ><label for=\"sk-estimator-id-8\" class=\"sk-toggleable__label fitted sk-toggleable__label-arrow fitted\">&nbsp;StandardScaler<a class=\"sk-estimator-doc-link fitted\" rel=\"noreferrer\" target=\"_blank\" href=\"https://scikit-learn.org/1.5/modules/generated/sklearn.preprocessing.StandardScaler.html\">?<span>Documentation for StandardScaler</span></a></label><div class=\"sk-toggleable__content fitted\"><pre>StandardScaler()</pre></div> </div></div><div class=\"sk-item\"><div class=\"sk-estimator fitted sk-toggleable\"><input class=\"sk-toggleable__control sk-hidden--visually\" id=\"sk-estimator-id-9\" type=\"checkbox\" ><label for=\"sk-estimator-id-9\" class=\"sk-toggleable__label fitted sk-toggleable__label-arrow fitted\">&nbsp;SGDClassifier<a class=\"sk-estimator-doc-link fitted\" rel=\"noreferrer\" target=\"_blank\" href=\"https://scikit-learn.org/1.5/modules/generated/sklearn.linear_model.SGDClassifier.html\">?<span>Documentation for SGDClassifier</span></a></label><div class=\"sk-toggleable__content fitted\"><pre>SGDClassifier(loss=&#x27;log_loss&#x27;, random_state=42)</pre></div> </div></div></div></div></div></div>"
            ]
          },
          "metadata": {},
          "execution_count": 36
        }
      ]
    },
    {
      "cell_type": "markdown",
      "source": [
        "Ajuste de Hiperparámetros Usando el Conjunto de Validación"
      ],
      "metadata": {
        "id": "lJmmsqVUo4M2"
      }
    },
    {
      "cell_type": "code",
      "source": [
        "from sklearn.model_selection import GridSearchCV\n",
        "\n",
        "# Definimos el espacio de hiperparámetros a optmizar en el modelko\n",
        "param_grid = {\n",
        "    'classifier__alpha': [1e-4, 1e-3, 1e-2],\n",
        "    'classifier__penalty': ['l2', 'l1', 'elasticnet'],\n",
        "    'classifier__learning_rate': ['constant', 'optimal', 'adaptive'],\n",
        "}\n",
        "\n",
        "# Configuramos GridSearchCV, el cual nos ayudará para explorar diferentes\n",
        "# combinaciones de hiperparámetros\n",
        "grid_search = GridSearchCV(model, param_grid, cv=3, n_jobs=-1, scoring='f1_macro')\n",
        "\n",
        "# Ejecutar búsqueda de hiperparámetros\n",
        "grid_search.fit(X_train_vect, y_train)\n",
        "\n",
        "# Mejor modelo\n",
        "best_model = grid_search.best_estimator_\n"
      ],
      "metadata": {
        "colab": {
          "base_uri": "https://localhost:8080/"
        },
        "id": "-ZQa0wWziHE6",
        "outputId": "631eefe2-7f69-4fe5-d969-a78e1bbefadf"
      },
      "execution_count": null,
      "outputs": [
        {
          "output_type": "stream",
          "name": "stderr",
          "text": [
            "/usr/local/lib/python3.10/dist-packages/sklearn/model_selection/_validation.py:540: FitFailedWarning: \n",
            "54 fits failed out of a total of 81.\n",
            "The score on these train-test partitions for these parameters will be set to nan.\n",
            "If these failures are not expected, you can try to debug them by setting error_score='raise'.\n",
            "\n",
            "Below are more details about the failures:\n",
            "--------------------------------------------------------------------------------\n",
            "54 fits failed with the following error:\n",
            "Traceback (most recent call last):\n",
            "  File \"/usr/local/lib/python3.10/dist-packages/sklearn/model_selection/_validation.py\", line 888, in _fit_and_score\n",
            "    estimator.fit(X_train, y_train, **fit_params)\n",
            "  File \"/usr/local/lib/python3.10/dist-packages/sklearn/base.py\", line 1473, in wrapper\n",
            "    return fit_method(estimator, *args, **kwargs)\n",
            "  File \"/usr/local/lib/python3.10/dist-packages/sklearn/pipeline.py\", line 473, in fit\n",
            "    self._final_estimator.fit(Xt, y, **last_step_params[\"fit\"])\n",
            "  File \"/usr/local/lib/python3.10/dist-packages/sklearn/base.py\", line 1473, in wrapper\n",
            "    return fit_method(estimator, *args, **kwargs)\n",
            "  File \"/usr/local/lib/python3.10/dist-packages/sklearn/linear_model/_stochastic_gradient.py\", line 936, in fit\n",
            "    self._more_validate_params()\n",
            "  File \"/usr/local/lib/python3.10/dist-packages/sklearn/linear_model/_stochastic_gradient.py\", line 153, in _more_validate_params\n",
            "    raise ValueError(\"eta0 must be > 0\")\n",
            "ValueError: eta0 must be > 0\n",
            "\n",
            "  warnings.warn(some_fits_failed_message, FitFailedWarning)\n",
            "/usr/local/lib/python3.10/dist-packages/sklearn/model_selection/_search.py:1103: UserWarning: One or more of the test scores are non-finite: [       nan        nan        nan 0.43377679 0.45728423 0.42857789\n",
            "        nan        nan        nan        nan        nan        nan\n",
            " 0.39456478 0.35075974 0.3883978         nan        nan        nan\n",
            "        nan        nan        nan 0.35860709 0.31335826 0.343992\n",
            "        nan        nan        nan]\n",
            "  warnings.warn(\n"
          ]
        }
      ]
    },
    {
      "cell_type": "markdown",
      "source": [
        "Evaluación del Modelo"
      ],
      "metadata": {
        "id": "6w1pzdDxo5XE"
      }
    },
    {
      "cell_type": "markdown",
      "source": [
        "Evaluar el Modelo en el Conjunto de Prueba"
      ],
      "metadata": {
        "id": "RrgxONUBo6xA"
      }
    },
    {
      "cell_type": "code",
      "source": [
        "from sklearn.metrics import classification_report, confusion_matrix, accuracy_score, f1_score\n",
        "\n",
        "# Predecir en el conjunto de prueba\n",
        "y_pred = best_model.predict(X_test_vect)\n",
        "\n",
        "# Mostrar reporte de clasificación\n",
        "print(classification_report(y_test, y_pred, target_names=newsgroups.target_names))\n",
        "\n",
        "accuracy = accuracy_score(y_test, y_pred)\n",
        "print(f'Precisión del modelo: {accuracy:.4f}')\n"
      ],
      "metadata": {
        "colab": {
          "base_uri": "https://localhost:8080/"
        },
        "id": "Z2n-Z3xJiIMG",
        "outputId": "795f5404-a7a2-4798-d11a-f0801751b7c2"
      },
      "execution_count": null,
      "outputs": [
        {
          "output_type": "stream",
          "name": "stdout",
          "text": [
            "                          precision    recall  f1-score   support\n",
            "\n",
            "             alt.atheism       0.27      0.23      0.25       120\n",
            "           comp.graphics       0.39      0.43      0.41       146\n",
            " comp.os.ms-windows.misc       0.49      0.51      0.50       148\n",
            "comp.sys.ibm.pc.hardware       0.49      0.35      0.41       147\n",
            "   comp.sys.mac.hardware       0.45      0.42      0.43       144\n",
            "          comp.windows.x       0.57      0.57      0.57       148\n",
            "            misc.forsale       0.59      0.55      0.57       147\n",
            "               rec.autos       0.33      0.56      0.42       149\n",
            "         rec.motorcycles       0.33      0.40      0.36       150\n",
            "      rec.sport.baseball       0.48      0.44      0.46       149\n",
            "        rec.sport.hockey       0.70      0.64      0.67       150\n",
            "               sci.crypt       0.62      0.59      0.60       148\n",
            "         sci.electronics       0.35      0.34      0.35       148\n",
            "                 sci.med       0.56      0.59      0.58       148\n",
            "               sci.space       0.51      0.54      0.53       148\n",
            "  soc.religion.christian       0.56      0.73      0.63       149\n",
            "      talk.politics.guns       0.51      0.54      0.52       137\n",
            "   talk.politics.mideast       0.68      0.52      0.59       141\n",
            "      talk.politics.misc       0.33      0.36      0.35       116\n",
            "      talk.religion.misc       0.33      0.03      0.06        94\n",
            "\n",
            "                accuracy                           0.48      2827\n",
            "               macro avg       0.48      0.47      0.46      2827\n",
            "            weighted avg       0.48      0.48      0.47      2827\n",
            "\n",
            "Precisión del modelo: 0.4793\n"
          ]
        }
      ]
    },
    {
      "cell_type": "markdown",
      "source": [
        "Pruebas de Significancia Estadística"
      ],
      "metadata": {
        "id": "wvybqs2HpCgQ"
      }
    },
    {
      "cell_type": "markdown",
      "source": [
        " Implementar la Prueba de McNemar"
      ],
      "metadata": {
        "id": "8x3nl5ZbpFoV"
      }
    },
    {
      "cell_type": "code",
      "source": [
        "# Descargar embeddings pre-entrenados de GloVe\n",
        "!wget http://nlp.stanford.edu/data/glove.6B.zip\n",
        "!unzip glove.6B.zip\n",
        "\n",
        "# Cargamos los embeddings de GloVe en un diccionario\n",
        "def load_glove_embeddings(file_path):\n",
        "    embeddings_index = {}\n",
        "    with open(file_path, 'r', encoding='utf8') as f:\n",
        "        for line in f:\n",
        "            values = line.split()\n",
        "            word = values[0]\n",
        "            vectors = np.asarray(values[1:], dtype='float32')\n",
        "            embeddings_index[word] = vectors\n",
        "    return embeddings_index\n",
        "\n",
        "glove_embeddings = load_glove_embeddings('glove.6B.100d.txt')\n"
      ],
      "metadata": {
        "colab": {
          "base_uri": "https://localhost:8080/"
        },
        "id": "RffzNi1QiKFc",
        "outputId": "f1e94f0f-ba94-489f-ff4c-273f5a7c1bcf"
      },
      "execution_count": null,
      "outputs": [
        {
          "output_type": "stream",
          "name": "stdout",
          "text": [
            "--2024-10-17 19:22:45--  http://nlp.stanford.edu/data/glove.6B.zip\n",
            "Resolving nlp.stanford.edu (nlp.stanford.edu)... 171.64.67.140\n",
            "Connecting to nlp.stanford.edu (nlp.stanford.edu)|171.64.67.140|:80... connected.\n",
            "HTTP request sent, awaiting response... 302 Found\n",
            "Location: https://nlp.stanford.edu/data/glove.6B.zip [following]\n",
            "--2024-10-17 19:22:45--  https://nlp.stanford.edu/data/glove.6B.zip\n",
            "Connecting to nlp.stanford.edu (nlp.stanford.edu)|171.64.67.140|:443... connected.\n",
            "HTTP request sent, awaiting response... 301 Moved Permanently\n",
            "Location: https://downloads.cs.stanford.edu/nlp/data/glove.6B.zip [following]\n",
            "--2024-10-17 19:22:45--  https://downloads.cs.stanford.edu/nlp/data/glove.6B.zip\n",
            "Resolving downloads.cs.stanford.edu (downloads.cs.stanford.edu)... 171.64.64.22\n",
            "Connecting to downloads.cs.stanford.edu (downloads.cs.stanford.edu)|171.64.64.22|:443... connected.\n",
            "HTTP request sent, awaiting response... 200 OK\n",
            "Length: 862182613 (822M) [application/zip]\n",
            "Saving to: ‘glove.6B.zip.1’\n",
            "\n",
            "glove.6B.zip.1      100%[===================>] 822.24M  4.96MB/s    in 3m 3s   \n",
            "\n",
            "2024-10-17 19:25:48 (4.49 MB/s) - ‘glove.6B.zip.1’ saved [862182613/862182613]\n",
            "\n",
            "Archive:  glove.6B.zip\n",
            "replace glove.6B.50d.txt? [y]es, [n]o, [A]ll, [N]one, [r]ename: "
          ]
        }
      ]
    },
    {
      "cell_type": "markdown",
      "source": [
        "Crear Representaciones de Documentos con GloVe"
      ],
      "metadata": {
        "id": "xmi4_WxVpH6t"
      }
    },
    {
      "cell_type": "code",
      "source": [
        "# Función para obtener el vector promedio de un documento usando GloVe\n",
        "def document_vector_glove(doc):\n",
        "  # Solo nos quedamos con palabras que estén en los embeddings de GloVe\n",
        "    doc = [word for word in doc.split() if word in glove_embeddings]\n",
        "    if len(doc) == 0:\n",
        "        return np.zeros(100)\n",
        "    else:\n",
        "        return np.mean([glove_embeddings[word] for word in doc], axis=0)\n",
        "\n",
        "# Obtener vectores de documentos\n",
        "X_train_vect_glove = np.array([document_vector_glove(doc) for doc in X_train])\n",
        "X_val_vect_glove = np.array([document_vector_glove(doc) for doc in X_val])\n",
        "X_test_vect_glove = np.array([document_vector_glove(doc) for doc in X_test])\n"
      ],
      "metadata": {
        "id": "o7WaU8rPiLHF"
      },
      "execution_count": null,
      "outputs": []
    },
    {
      "cell_type": "markdown",
      "source": [
        "Entrenar el Modelo Alternativo"
      ],
      "metadata": {
        "id": "TgcPaAP8pJDW"
      }
    },
    {
      "cell_type": "code",
      "source": [
        "# Usamos los mismos hiperparámetros encontrados anteriormente y\n",
        "# el mejor modelo encontrado en la búsqueda anterior, pero ahora con vectores GloVe\n",
        "model_glove = best_model\n",
        "model_glove.fit(X_train_vect_glove, y_train)\n"
      ],
      "metadata": {
        "id": "H4yAagwtiMYJ"
      },
      "execution_count": null,
      "outputs": []
    },
    {
      "cell_type": "markdown",
      "source": [
        "Evaluar el Modelo Alternativo"
      ],
      "metadata": {
        "id": "9XfxGahXpLvm"
      }
    },
    {
      "cell_type": "code",
      "source": [
        "# Predecimos en el conjunto de prueba\n",
        "y_pred_glove = model_glove.predict(X_test_vect_glove)\n",
        "\n",
        "print(classification_report(y_test, y_pred_glove, target_names=newsgroups.target_names))\n",
        "\n",
        "# Precisión general\n",
        "accuracy_glove = accuracy_score(y_test, y_pred_glove)\n",
        "print(f'Precisión del modelo con GloVe: {accuracy_glove:.4f}')\n"
      ],
      "metadata": {
        "id": "H83ej_aQiOHG"
      },
      "execution_count": null,
      "outputs": []
    },
    {
      "cell_type": "markdown",
      "source": [
        "Prueba de McNemar"
      ],
      "metadata": {
        "id": "uNPsVVQfpNs1"
      }
    },
    {
      "cell_type": "code",
      "source": [
        "from statsmodels.stats.contingency_tables import mcnemar\n",
        "\n",
        "# En esta sección usaremos la prueba de McNemar para comparar ambos modelos\n",
        "\n",
        "# Crear matriz de contingencia a partir de las predicciones de ambos modelos\n",
        "contingency_table = confusion_matrix(y_test == y_pred, y_test == y_pred_glove)\n",
        "print('Matriz de contingencia:')\n",
        "print(contingency_table)\n",
        "\n",
        "# Realizamos la prueba de McNemar\n",
        "result = mcnemar(contingency_table, exact=True)\n",
        "print('Estadístico de prueba:', result.statistic)\n",
        "print('P-valor:', result.pvalue)\n"
      ],
      "metadata": {
        "id": "SjcDci21iPZb"
      },
      "execution_count": null,
      "outputs": []
    },
    {
      "cell_type": "markdown",
      "source": [
        "Análisis e Interpretación de Resultados\n",
        "\n",
        "Puedes interpretar los resultados de las métricas y la prueba estadística. Un p-valor bajo (por debajo de 0.05) indicaría que hay una diferencia significativa entre los modelos."
      ],
      "metadata": {
        "id": "slwr3tBnpPI-"
      }
    },
    {
      "cell_type": "markdown",
      "source": [
        " Visualizaciones"
      ],
      "metadata": {
        "id": "xCzN8kfcpR6s"
      }
    },
    {
      "cell_type": "markdown",
      "source": [
        "Gráficos de Métricas"
      ],
      "metadata": {
        "id": "U50WxNRRpTJ3"
      }
    },
    {
      "cell_type": "code",
      "source": [
        "import matplotlib.pyplot as plt\n",
        "\n",
        "# Métricas de los dos modelos\n",
        "metrics = {\n",
        "    'Modelo Word2Vec': f1_score(y_test, y_pred, average='macro'),\n",
        "    'Modelo GloVe': f1_score(y_test, y_pred_glove, average='macro'),\n",
        "}\n",
        "\n",
        "# Gráfico de barras para comparar el rendimiento de ambos modelos\n",
        "plt.bar(metrics.keys(), metrics.values())\n",
        "plt.ylabel('F1 Score Macro')\n",
        "plt.title('Comparación de Modelos')\n",
        "plt.show()\n"
      ],
      "metadata": {
        "id": "glg4o__3iQZw"
      },
      "execution_count": null,
      "outputs": []
    },
    {
      "cell_type": "markdown",
      "source": [
        "Matriz de Confusión"
      ],
      "metadata": {
        "id": "ICuu14hFpXHT"
      }
    },
    {
      "cell_type": "code",
      "source": [
        "import seaborn as sns\n",
        "\n",
        "# Matriz de confusión para el modelo Word2Vec\n",
        "cm = confusion_matrix(y_test, y_pred)\n",
        "\n",
        "plt.figure(figsize=(10,8))\n",
        "sns.heatmap(cm, annot=False, fmt='d', cmap='Blues')\n",
        "plt.title('Matriz de Confusión - Modelo Word2Vec')\n",
        "plt.ylabel('Actual')\n",
        "plt.xlabel('Predicción')\n",
        "plt.show()\n"
      ],
      "metadata": {
        "id": "oR4dxOXHiR3G"
      },
      "execution_count": null,
      "outputs": []
    }
  ]
}